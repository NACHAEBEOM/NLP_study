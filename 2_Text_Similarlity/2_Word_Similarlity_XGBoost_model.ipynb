{
 "cells": [
  {
   "cell_type": "code",
   "execution_count": 1,
   "metadata": {},
   "outputs": [],
   "source": [
    "import pandas as pd\n",
    "import numpy as np\n",
    "import os\n",
    "\n",
    "import json\n",
    "\n",
    "from sklearn.model_selection  import train_test_split"
   ]
  },
  {
   "cell_type": "code",
   "execution_count": 3,
   "metadata": {},
   "outputs": [],
   "source": [
    "DATA_IN_PATH = './data/'\n",
    "\n",
    "TRAIN_Q1_DATA_FILE = 'train_q1.npy'\n",
    "TRAIN_Q2_DATA_FILE = 'train_q2.npy'\n",
    "TRAIN_LABEL_DATA_FILE = 'train_label.npy'\n",
    "\n",
    "train_q1_data = np.load(open(DATA_IN_PATH + TRAIN_Q1_DATA_FILE, 'rb'))\n",
    "train_q2_data = np.load(open(DATA_IN_PATH + TRAIN_Q2_DATA_FILE, 'rb'))\n",
    "train_labels = np.load(open(DATA_IN_PATH + TRAIN_LABEL_DATA_FILE, 'rb'))"
   ]
  },
  {
   "cell_type": "code",
   "execution_count": 4,
   "metadata": {
    "scrolled": true
   },
   "outputs": [
    {
     "data": {
      "text/plain": [
       "array([[  108,   244,  1138, ...,     0,     0,     0],\n",
       "       [   11, 23037,  1578, ...,     0,     0,     0],\n",
       "       [    4,     3, 25447, ...,     0,     0,     0],\n",
       "       ...,\n",
       "       [    4,    21,     7, ...,     0,     0,     0],\n",
       "       [    2,    21,  7591, ...,     0,     0,     0],\n",
       "       [    9,    15,   317, ...,     0,     0,     0]])"
      ]
     },
     "execution_count": 4,
     "metadata": {},
     "output_type": "execute_result"
    }
   ],
   "source": [
    "train_q1_data"
   ]
  },
  {
   "cell_type": "code",
   "execution_count": 5,
   "metadata": {},
   "outputs": [
    {
     "data": {
      "text/plain": [
       "array([[ 108,  244, 1138, ...,    0,    0,    0],\n",
       "       [  22, 2599,    3, ...,    0,    0,    0],\n",
       "       [   4,    9,    6, ...,    0,    0,    0],\n",
       "       ...,\n",
       "       [   4,   11,  134, ...,    0,    0,    0],\n",
       "       [   2,   21, 7591, ...,    0,    0,    0],\n",
       "       [   3,   19,  243, ...,    0,    0,    0]])"
      ]
     },
     "execution_count": 5,
     "metadata": {},
     "output_type": "execute_result"
    }
   ],
   "source": [
    "train_q2_data"
   ]
  },
  {
   "cell_type": "code",
   "execution_count": 6,
   "metadata": {},
   "outputs": [],
   "source": [
    "train_input = np.stack((train_q1_data, train_q2_data), axis=1)\n",
    "# 두 질문을 하나의 쌍으로 만든다.\n",
    "# np.stack(질문A, 질문B) == [[질문A],[질문B]]"
   ]
  },
  {
   "cell_type": "code",
   "execution_count": 7,
   "metadata": {},
   "outputs": [
    {
     "data": {
      "text/plain": [
       "array([[[  108,   244,  1138, ...,     0,     0,     0],\n",
       "        [  108,   244,  1138, ...,     0,     0,     0]],\n",
       "\n",
       "       [[   11, 23037,  1578, ...,     0,     0,     0],\n",
       "        [   22,  2599,     3, ...,     0,     0,     0]],\n",
       "\n",
       "       [[    4,     3, 25447, ...,     0,     0,     0],\n",
       "        [    4,     9,     6, ...,     0,     0,     0]],\n",
       "\n",
       "       ...,\n",
       "\n",
       "       [[    4,    21,     7, ...,     0,     0,     0],\n",
       "        [    4,    11,   134, ...,     0,     0,     0]],\n",
       "\n",
       "       [[    2,    21,  7591, ...,     0,     0,     0],\n",
       "        [    2,    21,  7591, ...,     0,     0,     0]],\n",
       "\n",
       "       [[    9,    15,   317, ...,     0,     0,     0],\n",
       "        [    3,    19,   243, ...,     0,     0,     0]]])"
      ]
     },
     "execution_count": 7,
     "metadata": {},
     "output_type": "execute_result"
    }
   ],
   "source": [
    "train_input"
   ]
  },
  {
   "cell_type": "code",
   "execution_count": 8,
   "metadata": {},
   "outputs": [
    {
     "name": "stdout",
     "output_type": "stream",
     "text": [
      "(298526, 2, 31)\n"
     ]
    }
   ],
   "source": [
    "print(train_input.shape)\n",
    "# 298526개 데이터에 대해 두 질문이 각 31개의 질문 길이를 가지고 있다."
   ]
  },
  {
   "cell_type": "code",
   "execution_count": 9,
   "metadata": {},
   "outputs": [],
   "source": [
    "from sklearn.model_selection import train_test_split\n",
    "\n",
    "train_input, eval_input, train_label, eval_label = train_test_split(train_input, train_labels, test_size=0.2, random_state=4242)"
   ]
  },
  {
   "cell_type": "code",
   "execution_count": 10,
   "metadata": {},
   "outputs": [],
   "source": [
    "# !pip install xgboost\n",
    "import xgboost as xgb\n",
    "\n",
    "train_data = xgb.DMatrix(train_input.sum(axis=1), label=train_label) # sum을 하는 이유는 두 개의 질문을 하나로 합치기 위해서.\n",
    "eval_data = xgb.DMatrix(eval_input.sum(axis=1), label=eval_label)\n",
    "\n",
    "data_list = [(train_data, 'train'), (eval_data, 'valid')]"
   ]
  },
  {
   "cell_type": "code",
   "execution_count": 11,
   "metadata": {},
   "outputs": [
    {
     "data": {
      "text/plain": [
       "array([[   8,   22,    2, ...,    0,    0,    0],\n",
       "       [  14, 1043, 7055, ...,    0,    0,    0],\n",
       "       [   4,   12,   48, ...,    0,    0,    0],\n",
       "       ...,\n",
       "       [  77,   16, 3758, ...,    0,    0,    0],\n",
       "       [   4,   22,  174, ...,    0,    0,    0],\n",
       "       [   8,   18,   10, ...,    0,    0,    0]])"
      ]
     },
     "execution_count": 11,
     "metadata": {},
     "output_type": "execute_result"
    }
   ],
   "source": [
    "train_input.sum(axis=1)"
   ]
  },
  {
   "cell_type": "code",
   "execution_count": 12,
   "metadata": {},
   "outputs": [
    {
     "data": {
      "text/plain": [
       "(238820, 31)"
      ]
     },
     "execution_count": 12,
     "metadata": {},
     "output_type": "execute_result"
    }
   ],
   "source": [
    "train_input.sum(axis=1).shape"
   ]
  },
  {
   "cell_type": "code",
   "execution_count": 13,
   "metadata": {},
   "outputs": [
    {
     "data": {
      "text/plain": [
       "<xgboost.core.DMatrix at 0x21ddb688ba8>"
      ]
     },
     "execution_count": 13,
     "metadata": {},
     "output_type": "execute_result"
    }
   ],
   "source": [
    "eval_data"
   ]
  },
  {
   "cell_type": "code",
   "execution_count": 14,
   "metadata": {
    "scrolled": false
   },
   "outputs": [
    {
     "name": "stdout",
     "output_type": "stream",
     "text": [
      "[0]\ttrain-rmse:0.483702\tvalid-rmse:0.484399\n",
      "Multiple eval metrics have been passed: 'valid-rmse' will be used for early stopping.\n",
      "\n",
      "Will train until valid-rmse hasn't improved in 10 rounds.\n",
      "[1]\ttrain-rmse:0.473436\tvalid-rmse:0.474737\n",
      "[2]\ttrain-rmse:0.466772\tvalid-rmse:0.468407\n",
      "[3]\ttrain-rmse:0.46219\tvalid-rmse:0.464227\n",
      "[4]\ttrain-rmse:0.458387\tvalid-rmse:0.460723\n",
      "[5]\ttrain-rmse:0.455753\tvalid-rmse:0.458389\n",
      "[6]\ttrain-rmse:0.453708\tvalid-rmse:0.456577\n",
      "[7]\ttrain-rmse:0.450985\tvalid-rmse:0.453965\n",
      "[8]\ttrain-rmse:0.449342\tvalid-rmse:0.452487\n",
      "[9]\ttrain-rmse:0.448037\tvalid-rmse:0.451503\n",
      "[10]\ttrain-rmse:0.446811\tvalid-rmse:0.450417\n",
      "[11]\ttrain-rmse:0.446027\tvalid-rmse:0.449821\n",
      "[12]\ttrain-rmse:0.444147\tvalid-rmse:0.448285\n",
      "[13]\ttrain-rmse:0.442851\tvalid-rmse:0.44708\n",
      "[14]\ttrain-rmse:0.442276\tvalid-rmse:0.446602\n",
      "[15]\ttrain-rmse:0.441669\tvalid-rmse:0.446207\n",
      "[16]\ttrain-rmse:0.441148\tvalid-rmse:0.445845\n",
      "[17]\ttrain-rmse:0.440668\tvalid-rmse:0.445569\n",
      "[18]\ttrain-rmse:0.440405\tvalid-rmse:0.445393\n",
      "[19]\ttrain-rmse:0.439562\tvalid-rmse:0.444732\n",
      "[20]\ttrain-rmse:0.438719\tvalid-rmse:0.444068\n",
      "[21]\ttrain-rmse:0.43757\tvalid-rmse:0.443109\n",
      "[22]\ttrain-rmse:0.437025\tvalid-rmse:0.442624\n",
      "[23]\ttrain-rmse:0.436771\tvalid-rmse:0.442488\n",
      "[24]\ttrain-rmse:0.436582\tvalid-rmse:0.442363\n",
      "[25]\ttrain-rmse:0.436323\tvalid-rmse:0.442233\n",
      "[26]\ttrain-rmse:0.435156\tvalid-rmse:0.441284\n",
      "[27]\ttrain-rmse:0.434346\tvalid-rmse:0.440716\n",
      "[28]\ttrain-rmse:0.434016\tvalid-rmse:0.440562\n",
      "[29]\ttrain-rmse:0.433876\tvalid-rmse:0.440481\n",
      "[30]\ttrain-rmse:0.433476\tvalid-rmse:0.440227\n",
      "[31]\ttrain-rmse:0.43335\tvalid-rmse:0.440122\n",
      "[32]\ttrain-rmse:0.433033\tvalid-rmse:0.439844\n",
      "[33]\ttrain-rmse:0.432498\tvalid-rmse:0.43951\n",
      "[34]\ttrain-rmse:0.431818\tvalid-rmse:0.438917\n",
      "[35]\ttrain-rmse:0.431155\tvalid-rmse:0.438343\n",
      "[36]\ttrain-rmse:0.430819\tvalid-rmse:0.438108\n",
      "[37]\ttrain-rmse:0.430503\tvalid-rmse:0.437897\n",
      "[38]\ttrain-rmse:0.429872\tvalid-rmse:0.43752\n",
      "[39]\ttrain-rmse:0.429682\tvalid-rmse:0.437396\n",
      "[40]\ttrain-rmse:0.429444\tvalid-rmse:0.437285\n",
      "[41]\ttrain-rmse:0.429341\tvalid-rmse:0.437222\n",
      "[42]\ttrain-rmse:0.429198\tvalid-rmse:0.437177\n",
      "[43]\ttrain-rmse:0.429054\tvalid-rmse:0.437102\n",
      "[44]\ttrain-rmse:0.428926\tvalid-rmse:0.437\n",
      "[45]\ttrain-rmse:0.428688\tvalid-rmse:0.43685\n",
      "[46]\ttrain-rmse:0.428486\tvalid-rmse:0.436791\n",
      "[47]\ttrain-rmse:0.428275\tvalid-rmse:0.436669\n",
      "[48]\ttrain-rmse:0.427651\tvalid-rmse:0.436292\n",
      "[49]\ttrain-rmse:0.427304\tvalid-rmse:0.436085\n",
      "[50]\ttrain-rmse:0.426851\tvalid-rmse:0.435885\n",
      "[51]\ttrain-rmse:0.426644\tvalid-rmse:0.435833\n",
      "[52]\ttrain-rmse:0.426482\tvalid-rmse:0.435799\n",
      "[53]\ttrain-rmse:0.426283\tvalid-rmse:0.435672\n",
      "[54]\ttrain-rmse:0.426173\tvalid-rmse:0.435601\n",
      "[55]\ttrain-rmse:0.42604\tvalid-rmse:0.435591\n",
      "[56]\ttrain-rmse:0.425707\tvalid-rmse:0.435442\n",
      "[57]\ttrain-rmse:0.425199\tvalid-rmse:0.435102\n",
      "[58]\ttrain-rmse:0.424957\tvalid-rmse:0.43503\n",
      "[59]\ttrain-rmse:0.424871\tvalid-rmse:0.434991\n",
      "[60]\ttrain-rmse:0.424794\tvalid-rmse:0.434946\n",
      "[61]\ttrain-rmse:0.424657\tvalid-rmse:0.434894\n",
      "[62]\ttrain-rmse:0.424479\tvalid-rmse:0.434825\n",
      "[63]\ttrain-rmse:0.424238\tvalid-rmse:0.434625\n",
      "[64]\ttrain-rmse:0.423974\tvalid-rmse:0.434381\n",
      "[65]\ttrain-rmse:0.423554\tvalid-rmse:0.434111\n",
      "[66]\ttrain-rmse:0.423224\tvalid-rmse:0.433963\n",
      "[67]\ttrain-rmse:0.423182\tvalid-rmse:0.433937\n",
      "[68]\ttrain-rmse:0.423131\tvalid-rmse:0.43391\n",
      "[69]\ttrain-rmse:0.423075\tvalid-rmse:0.43388\n",
      "[70]\ttrain-rmse:0.422774\tvalid-rmse:0.433773\n",
      "[71]\ttrain-rmse:0.422347\tvalid-rmse:0.433456\n",
      "[72]\ttrain-rmse:0.421924\tvalid-rmse:0.433296\n",
      "[73]\ttrain-rmse:0.421731\tvalid-rmse:0.433225\n",
      "[74]\ttrain-rmse:0.421229\tvalid-rmse:0.432894\n",
      "[75]\ttrain-rmse:0.421131\tvalid-rmse:0.432865\n",
      "[76]\ttrain-rmse:0.420805\tvalid-rmse:0.432709\n",
      "[77]\ttrain-rmse:0.420758\tvalid-rmse:0.432673\n",
      "[78]\ttrain-rmse:0.4207\tvalid-rmse:0.432643\n",
      "[79]\ttrain-rmse:0.4203\tvalid-rmse:0.432429\n",
      "[80]\ttrain-rmse:0.419918\tvalid-rmse:0.43227\n",
      "[81]\ttrain-rmse:0.419636\tvalid-rmse:0.432109\n",
      "[82]\ttrain-rmse:0.419529\tvalid-rmse:0.432101\n",
      "[83]\ttrain-rmse:0.419467\tvalid-rmse:0.432081\n",
      "[84]\ttrain-rmse:0.419391\tvalid-rmse:0.432047\n",
      "[85]\ttrain-rmse:0.419326\tvalid-rmse:0.432001\n",
      "[86]\ttrain-rmse:0.419208\tvalid-rmse:0.43195\n",
      "[87]\ttrain-rmse:0.418831\tvalid-rmse:0.431728\n",
      "[88]\ttrain-rmse:0.418542\tvalid-rmse:0.431636\n",
      "[89]\ttrain-rmse:0.418379\tvalid-rmse:0.431576\n",
      "[90]\ttrain-rmse:0.418255\tvalid-rmse:0.431552\n",
      "[91]\ttrain-rmse:0.417888\tvalid-rmse:0.431389\n",
      "[92]\ttrain-rmse:0.417602\tvalid-rmse:0.431335\n",
      "[93]\ttrain-rmse:0.417138\tvalid-rmse:0.430986\n",
      "[94]\ttrain-rmse:0.416802\tvalid-rmse:0.430868\n",
      "[95]\ttrain-rmse:0.416558\tvalid-rmse:0.430798\n",
      "[96]\ttrain-rmse:0.416451\tvalid-rmse:0.430742\n",
      "[97]\ttrain-rmse:0.416134\tvalid-rmse:0.430689\n",
      "[98]\ttrain-rmse:0.416076\tvalid-rmse:0.430656\n",
      "[99]\ttrain-rmse:0.41579\tvalid-rmse:0.430551\n",
      "[100]\ttrain-rmse:0.415596\tvalid-rmse:0.430503\n",
      "[101]\ttrain-rmse:0.415535\tvalid-rmse:0.430486\n",
      "[102]\ttrain-rmse:0.415462\tvalid-rmse:0.430467\n",
      "[103]\ttrain-rmse:0.415413\tvalid-rmse:0.430437\n",
      "[104]\ttrain-rmse:0.415383\tvalid-rmse:0.430429\n",
      "[105]\ttrain-rmse:0.415326\tvalid-rmse:0.430398\n",
      "[106]\ttrain-rmse:0.415309\tvalid-rmse:0.430372\n",
      "[107]\ttrain-rmse:0.415281\tvalid-rmse:0.430363\n",
      "[108]\ttrain-rmse:0.415214\tvalid-rmse:0.430331\n",
      "[109]\ttrain-rmse:0.415182\tvalid-rmse:0.430308\n",
      "[110]\ttrain-rmse:0.414989\tvalid-rmse:0.430275\n",
      "[111]\ttrain-rmse:0.414943\tvalid-rmse:0.430278\n",
      "[112]\ttrain-rmse:0.4149\tvalid-rmse:0.430244\n",
      "[113]\ttrain-rmse:0.414856\tvalid-rmse:0.430235\n",
      "[114]\ttrain-rmse:0.414505\tvalid-rmse:0.429998\n",
      "[115]\ttrain-rmse:0.414214\tvalid-rmse:0.429884\n",
      "[116]\ttrain-rmse:0.413917\tvalid-rmse:0.429842\n",
      "[117]\ttrain-rmse:0.413564\tvalid-rmse:0.429735\n",
      "[118]\ttrain-rmse:0.413095\tvalid-rmse:0.429487\n",
      "[119]\ttrain-rmse:0.412697\tvalid-rmse:0.429222\n",
      "[120]\ttrain-rmse:0.412482\tvalid-rmse:0.429195\n",
      "[121]\ttrain-rmse:0.412162\tvalid-rmse:0.429074\n",
      "[122]\ttrain-rmse:0.411983\tvalid-rmse:0.429044\n",
      "[123]\ttrain-rmse:0.411921\tvalid-rmse:0.429014\n",
      "[124]\ttrain-rmse:0.411822\tvalid-rmse:0.42897\n",
      "[125]\ttrain-rmse:0.41164\tvalid-rmse:0.428939\n",
      "[126]\ttrain-rmse:0.411589\tvalid-rmse:0.428926\n",
      "[127]\ttrain-rmse:0.411365\tvalid-rmse:0.428836\n",
      "[128]\ttrain-rmse:0.411225\tvalid-rmse:0.428807\n",
      "[129]\ttrain-rmse:0.411203\tvalid-rmse:0.428789\n",
      "[130]\ttrain-rmse:0.411179\tvalid-rmse:0.428786\n",
      "[131]\ttrain-rmse:0.410847\tvalid-rmse:0.4287\n",
      "[132]\ttrain-rmse:0.410513\tvalid-rmse:0.428504\n",
      "[133]\ttrain-rmse:0.410451\tvalid-rmse:0.428484\n",
      "[134]\ttrain-rmse:0.410189\tvalid-rmse:0.428414\n",
      "[135]\ttrain-rmse:0.410158\tvalid-rmse:0.428402\n",
      "[136]\ttrain-rmse:0.410129\tvalid-rmse:0.4284\n",
      "[137]\ttrain-rmse:0.410094\tvalid-rmse:0.428388\n",
      "[138]\ttrain-rmse:0.41007\tvalid-rmse:0.428377\n",
      "[139]\ttrain-rmse:0.410052\tvalid-rmse:0.428364\n",
      "[140]\ttrain-rmse:0.40988\tvalid-rmse:0.428294\n",
      "[141]\ttrain-rmse:0.409574\tvalid-rmse:0.428199\n",
      "[142]\ttrain-rmse:0.409417\tvalid-rmse:0.428158\n",
      "[143]\ttrain-rmse:0.409398\tvalid-rmse:0.428146\n",
      "[144]\ttrain-rmse:0.409278\tvalid-rmse:0.428128\n",
      "[145]\ttrain-rmse:0.409041\tvalid-rmse:0.428103\n",
      "[146]\ttrain-rmse:0.408876\tvalid-rmse:0.428034\n",
      "[147]\ttrain-rmse:0.408811\tvalid-rmse:0.42803\n",
      "[148]\ttrain-rmse:0.40844\tvalid-rmse:0.427928\n",
      "[149]\ttrain-rmse:0.408273\tvalid-rmse:0.42791\n",
      "[150]\ttrain-rmse:0.408221\tvalid-rmse:0.427869\n",
      "[151]\ttrain-rmse:0.407971\tvalid-rmse:0.427758\n",
      "[152]\ttrain-rmse:0.407673\tvalid-rmse:0.427619\n",
      "[153]\ttrain-rmse:0.407323\tvalid-rmse:0.427483\n",
      "[154]\ttrain-rmse:0.407013\tvalid-rmse:0.427388\n",
      "[155]\ttrain-rmse:0.406775\tvalid-rmse:0.427254\n",
      "[156]\ttrain-rmse:0.406499\tvalid-rmse:0.427224\n",
      "[157]\ttrain-rmse:0.406265\tvalid-rmse:0.427191\n",
      "[158]\ttrain-rmse:0.405961\tvalid-rmse:0.427118\n",
      "[159]\ttrain-rmse:0.405587\tvalid-rmse:0.426942\n",
      "[160]\ttrain-rmse:0.405323\tvalid-rmse:0.426845\n",
      "[161]\ttrain-rmse:0.405214\tvalid-rmse:0.426803\n",
      "[162]\ttrain-rmse:0.404979\tvalid-rmse:0.426702\n",
      "[163]\ttrain-rmse:0.404839\tvalid-rmse:0.426697\n",
      "[164]\ttrain-rmse:0.404595\tvalid-rmse:0.426645\n",
      "[165]\ttrain-rmse:0.404248\tvalid-rmse:0.426517\n",
      "[166]\ttrain-rmse:0.403955\tvalid-rmse:0.42647\n",
      "[167]\ttrain-rmse:0.403941\tvalid-rmse:0.426463\n",
      "[168]\ttrain-rmse:0.403931\tvalid-rmse:0.426453\n",
      "[169]\ttrain-rmse:0.403893\tvalid-rmse:0.426451\n",
      "[170]\ttrain-rmse:0.403843\tvalid-rmse:0.426446\n",
      "[171]\ttrain-rmse:0.403672\tvalid-rmse:0.426403\n",
      "[172]\ttrain-rmse:0.403647\tvalid-rmse:0.426395\n",
      "[173]\ttrain-rmse:0.403432\tvalid-rmse:0.426414\n",
      "[174]\ttrain-rmse:0.403135\tvalid-rmse:0.426351\n",
      "[175]\ttrain-rmse:0.402898\tvalid-rmse:0.426321\n",
      "[176]\ttrain-rmse:0.402657\tvalid-rmse:0.42622\n",
      "[177]\ttrain-rmse:0.402646\tvalid-rmse:0.426221\n",
      "[178]\ttrain-rmse:0.402619\tvalid-rmse:0.426218\n"
     ]
    },
    {
     "name": "stdout",
     "output_type": "stream",
     "text": [
      "[179]\ttrain-rmse:0.402312\tvalid-rmse:0.426108\n",
      "[180]\ttrain-rmse:0.401962\tvalid-rmse:0.425865\n",
      "[181]\ttrain-rmse:0.401766\tvalid-rmse:0.425805\n",
      "[182]\ttrain-rmse:0.401695\tvalid-rmse:0.425779\n",
      "[183]\ttrain-rmse:0.401436\tvalid-rmse:0.425754\n",
      "[184]\ttrain-rmse:0.401204\tvalid-rmse:0.425751\n",
      "[185]\ttrain-rmse:0.401091\tvalid-rmse:0.425734\n",
      "[186]\ttrain-rmse:0.400857\tvalid-rmse:0.42567\n",
      "[187]\ttrain-rmse:0.400677\tvalid-rmse:0.425632\n",
      "[188]\ttrain-rmse:0.400637\tvalid-rmse:0.425642\n",
      "[189]\ttrain-rmse:0.400467\tvalid-rmse:0.425587\n",
      "[190]\ttrain-rmse:0.400453\tvalid-rmse:0.425582\n",
      "[191]\ttrain-rmse:0.4002\tvalid-rmse:0.425535\n",
      "[192]\ttrain-rmse:0.399885\tvalid-rmse:0.425436\n",
      "[193]\ttrain-rmse:0.399744\tvalid-rmse:0.425404\n",
      "[194]\ttrain-rmse:0.399399\tvalid-rmse:0.425192\n",
      "[195]\ttrain-rmse:0.399158\tvalid-rmse:0.425167\n",
      "[196]\ttrain-rmse:0.399073\tvalid-rmse:0.425158\n",
      "[197]\ttrain-rmse:0.399063\tvalid-rmse:0.425146\n",
      "[198]\ttrain-rmse:0.398986\tvalid-rmse:0.425147\n",
      "[199]\ttrain-rmse:0.398945\tvalid-rmse:0.425126\n",
      "[200]\ttrain-rmse:0.398934\tvalid-rmse:0.425111\n",
      "[201]\ttrain-rmse:0.398894\tvalid-rmse:0.42511\n",
      "[202]\ttrain-rmse:0.398855\tvalid-rmse:0.425106\n",
      "[203]\ttrain-rmse:0.398804\tvalid-rmse:0.425088\n",
      "[204]\ttrain-rmse:0.398552\tvalid-rmse:0.425053\n",
      "[205]\ttrain-rmse:0.398373\tvalid-rmse:0.425035\n",
      "[206]\ttrain-rmse:0.398238\tvalid-rmse:0.424984\n",
      "[207]\ttrain-rmse:0.39816\tvalid-rmse:0.424957\n",
      "[208]\ttrain-rmse:0.397934\tvalid-rmse:0.424876\n",
      "[209]\ttrain-rmse:0.397735\tvalid-rmse:0.424829\n",
      "[210]\ttrain-rmse:0.397511\tvalid-rmse:0.424762\n",
      "[211]\ttrain-rmse:0.397344\tvalid-rmse:0.424723\n",
      "[212]\ttrain-rmse:0.39728\tvalid-rmse:0.424706\n",
      "[213]\ttrain-rmse:0.39705\tvalid-rmse:0.424655\n",
      "[214]\ttrain-rmse:0.397007\tvalid-rmse:0.42463\n",
      "[215]\ttrain-rmse:0.396996\tvalid-rmse:0.424629\n",
      "[216]\ttrain-rmse:0.396967\tvalid-rmse:0.424621\n",
      "[217]\ttrain-rmse:0.396757\tvalid-rmse:0.424584\n",
      "[218]\ttrain-rmse:0.396566\tvalid-rmse:0.424549\n",
      "[219]\ttrain-rmse:0.3964\tvalid-rmse:0.424522\n",
      "[220]\ttrain-rmse:0.396297\tvalid-rmse:0.424508\n",
      "[221]\ttrain-rmse:0.396037\tvalid-rmse:0.424385\n",
      "[222]\ttrain-rmse:0.395873\tvalid-rmse:0.424338\n",
      "[223]\ttrain-rmse:0.395685\tvalid-rmse:0.424282\n",
      "[224]\ttrain-rmse:0.395583\tvalid-rmse:0.424265\n",
      "[225]\ttrain-rmse:0.395476\tvalid-rmse:0.424226\n",
      "[226]\ttrain-rmse:0.395385\tvalid-rmse:0.424191\n",
      "[227]\ttrain-rmse:0.395157\tvalid-rmse:0.424103\n",
      "[228]\ttrain-rmse:0.39483\tvalid-rmse:0.423964\n",
      "[229]\ttrain-rmse:0.394629\tvalid-rmse:0.423875\n",
      "[230]\ttrain-rmse:0.39429\tvalid-rmse:0.423766\n",
      "[231]\ttrain-rmse:0.39426\tvalid-rmse:0.423757\n",
      "[232]\ttrain-rmse:0.39419\tvalid-rmse:0.423734\n",
      "[233]\ttrain-rmse:0.394183\tvalid-rmse:0.423727\n",
      "[234]\ttrain-rmse:0.394166\tvalid-rmse:0.423717\n",
      "[235]\ttrain-rmse:0.39404\tvalid-rmse:0.42373\n",
      "[236]\ttrain-rmse:0.393991\tvalid-rmse:0.423726\n",
      "[237]\ttrain-rmse:0.39377\tvalid-rmse:0.423703\n",
      "[238]\ttrain-rmse:0.39362\tvalid-rmse:0.423669\n",
      "[239]\ttrain-rmse:0.393387\tvalid-rmse:0.423652\n",
      "[240]\ttrain-rmse:0.393354\tvalid-rmse:0.423633\n",
      "[241]\ttrain-rmse:0.393079\tvalid-rmse:0.42351\n",
      "[242]\ttrain-rmse:0.392837\tvalid-rmse:0.42333\n",
      "[243]\ttrain-rmse:0.392716\tvalid-rmse:0.423324\n",
      "[244]\ttrain-rmse:0.392636\tvalid-rmse:0.423337\n",
      "[245]\ttrain-rmse:0.392482\tvalid-rmse:0.423285\n",
      "[246]\ttrain-rmse:0.392445\tvalid-rmse:0.423287\n",
      "[247]\ttrain-rmse:0.392416\tvalid-rmse:0.423269\n",
      "[248]\ttrain-rmse:0.392397\tvalid-rmse:0.423258\n",
      "[249]\ttrain-rmse:0.392342\tvalid-rmse:0.423247\n",
      "[250]\ttrain-rmse:0.392106\tvalid-rmse:0.423174\n",
      "[251]\ttrain-rmse:0.392049\tvalid-rmse:0.423158\n",
      "[252]\ttrain-rmse:0.391831\tvalid-rmse:0.423089\n",
      "[253]\ttrain-rmse:0.39165\tvalid-rmse:0.423069\n",
      "[254]\ttrain-rmse:0.391449\tvalid-rmse:0.42301\n",
      "[255]\ttrain-rmse:0.391184\tvalid-rmse:0.422971\n",
      "[256]\ttrain-rmse:0.390957\tvalid-rmse:0.422879\n",
      "[257]\ttrain-rmse:0.390684\tvalid-rmse:0.422829\n",
      "[258]\ttrain-rmse:0.390601\tvalid-rmse:0.42282\n",
      "[259]\ttrain-rmse:0.390501\tvalid-rmse:0.422796\n",
      "[260]\ttrain-rmse:0.390492\tvalid-rmse:0.422796\n",
      "[261]\ttrain-rmse:0.390285\tvalid-rmse:0.422775\n",
      "[262]\ttrain-rmse:0.39001\tvalid-rmse:0.4227\n",
      "[263]\ttrain-rmse:0.38976\tvalid-rmse:0.422629\n",
      "[264]\ttrain-rmse:0.389503\tvalid-rmse:0.422574\n",
      "[265]\ttrain-rmse:0.38937\tvalid-rmse:0.422571\n",
      "[266]\ttrain-rmse:0.389349\tvalid-rmse:0.422574\n",
      "[267]\ttrain-rmse:0.389328\tvalid-rmse:0.422574\n",
      "[268]\ttrain-rmse:0.389086\tvalid-rmse:0.422475\n",
      "[269]\ttrain-rmse:0.388883\tvalid-rmse:0.422434\n",
      "[270]\ttrain-rmse:0.388856\tvalid-rmse:0.422423\n",
      "[271]\ttrain-rmse:0.388796\tvalid-rmse:0.422422\n",
      "[272]\ttrain-rmse:0.388645\tvalid-rmse:0.422368\n",
      "[273]\ttrain-rmse:0.388543\tvalid-rmse:0.42237\n",
      "[274]\ttrain-rmse:0.388485\tvalid-rmse:0.42238\n",
      "[275]\ttrain-rmse:0.388469\tvalid-rmse:0.422378\n",
      "[276]\ttrain-rmse:0.388431\tvalid-rmse:0.422373\n",
      "[277]\ttrain-rmse:0.388317\tvalid-rmse:0.422355\n",
      "[278]\ttrain-rmse:0.388305\tvalid-rmse:0.422351\n",
      "[279]\ttrain-rmse:0.38829\tvalid-rmse:0.422352\n",
      "[280]\ttrain-rmse:0.388282\tvalid-rmse:0.422339\n",
      "[281]\ttrain-rmse:0.388262\tvalid-rmse:0.422326\n",
      "[282]\ttrain-rmse:0.388246\tvalid-rmse:0.422323\n",
      "[283]\ttrain-rmse:0.3882\tvalid-rmse:0.422318\n",
      "[284]\ttrain-rmse:0.388182\tvalid-rmse:0.422319\n",
      "[285]\ttrain-rmse:0.388041\tvalid-rmse:0.422291\n",
      "[286]\ttrain-rmse:0.387879\tvalid-rmse:0.422273\n",
      "[287]\ttrain-rmse:0.387683\tvalid-rmse:0.422284\n",
      "[288]\ttrain-rmse:0.387419\tvalid-rmse:0.422178\n",
      "[289]\ttrain-rmse:0.387218\tvalid-rmse:0.422146\n",
      "[290]\ttrain-rmse:0.387003\tvalid-rmse:0.422125\n",
      "[291]\ttrain-rmse:0.386855\tvalid-rmse:0.422068\n",
      "[292]\ttrain-rmse:0.386848\tvalid-rmse:0.422063\n",
      "[293]\ttrain-rmse:0.38683\tvalid-rmse:0.422052\n",
      "[294]\ttrain-rmse:0.386699\tvalid-rmse:0.422017\n",
      "[295]\ttrain-rmse:0.386672\tvalid-rmse:0.422008\n",
      "[296]\ttrain-rmse:0.386626\tvalid-rmse:0.422006\n",
      "[297]\ttrain-rmse:0.386603\tvalid-rmse:0.422004\n",
      "[298]\ttrain-rmse:0.386344\tvalid-rmse:0.42197\n",
      "[299]\ttrain-rmse:0.386174\tvalid-rmse:0.421923\n",
      "[300]\ttrain-rmse:0.386057\tvalid-rmse:0.421914\n",
      "[301]\ttrain-rmse:0.38585\tvalid-rmse:0.421891\n",
      "[302]\ttrain-rmse:0.385751\tvalid-rmse:0.421878\n",
      "[303]\ttrain-rmse:0.385522\tvalid-rmse:0.421815\n",
      "[304]\ttrain-rmse:0.385404\tvalid-rmse:0.421797\n",
      "[305]\ttrain-rmse:0.38517\tvalid-rmse:0.421728\n",
      "[306]\ttrain-rmse:0.384978\tvalid-rmse:0.421647\n",
      "[307]\ttrain-rmse:0.384793\tvalid-rmse:0.421612\n",
      "[308]\ttrain-rmse:0.38463\tvalid-rmse:0.4216\n",
      "[309]\ttrain-rmse:0.384518\tvalid-rmse:0.421572\n",
      "[310]\ttrain-rmse:0.384425\tvalid-rmse:0.421578\n",
      "[311]\ttrain-rmse:0.384248\tvalid-rmse:0.421539\n",
      "[312]\ttrain-rmse:0.384099\tvalid-rmse:0.421501\n",
      "[313]\ttrain-rmse:0.383941\tvalid-rmse:0.421492\n",
      "[314]\ttrain-rmse:0.383794\tvalid-rmse:0.421445\n",
      "[315]\ttrain-rmse:0.383663\tvalid-rmse:0.42139\n",
      "[316]\ttrain-rmse:0.383625\tvalid-rmse:0.421374\n",
      "[317]\ttrain-rmse:0.383463\tvalid-rmse:0.421318\n",
      "[318]\ttrain-rmse:0.383288\tvalid-rmse:0.421331\n",
      "[319]\ttrain-rmse:0.383162\tvalid-rmse:0.421336\n",
      "[320]\ttrain-rmse:0.382932\tvalid-rmse:0.421303\n",
      "[321]\ttrain-rmse:0.382794\tvalid-rmse:0.421272\n",
      "[322]\ttrain-rmse:0.382687\tvalid-rmse:0.421294\n",
      "[323]\ttrain-rmse:0.382576\tvalid-rmse:0.42127\n",
      "[324]\ttrain-rmse:0.3824\tvalid-rmse:0.421235\n",
      "[325]\ttrain-rmse:0.382374\tvalid-rmse:0.421237\n",
      "[326]\ttrain-rmse:0.382296\tvalid-rmse:0.421263\n",
      "[327]\ttrain-rmse:0.382257\tvalid-rmse:0.421256\n",
      "[328]\ttrain-rmse:0.382228\tvalid-rmse:0.42125\n",
      "[329]\ttrain-rmse:0.382221\tvalid-rmse:0.42124\n",
      "[330]\ttrain-rmse:0.3821\tvalid-rmse:0.421239\n",
      "[331]\ttrain-rmse:0.381967\tvalid-rmse:0.421242\n",
      "[332]\ttrain-rmse:0.381952\tvalid-rmse:0.421242\n",
      "[333]\ttrain-rmse:0.381929\tvalid-rmse:0.421242\n",
      "[334]\ttrain-rmse:0.381816\tvalid-rmse:0.421242\n",
      "Stopping. Best iteration:\n",
      "[324]\ttrain-rmse:0.3824\tvalid-rmse:0.421235\n",
      "\n"
     ]
    }
   ],
   "source": [
    "params = {}\n",
    "params['objective'] = 'binary:logistic' # 이진 로지스틱 함수\n",
    "params['eval_metric'] = 'rmse' # 평가지표(root mean squared error)\n",
    "\n",
    "bst = xgb.train(params, train_data, num_boost_round = 1000, evals = data_list, early_stopping_rounds=10)\n",
    "# xgb.train(파라메터, 데이터, 데이터 반복 횟수, 모델 검증 시 사용할 전체 데이터 쌍, 조기 멈춤 횟수)"
   ]
  },
  {
   "cell_type": "code",
   "execution_count": 15,
   "metadata": {},
   "outputs": [],
   "source": [
    "TEST_Q1_DATA_FILE = 'test_q1.npy'\n",
    "TEST_Q2_DATA_FILE = 'test_q2.npy'\n",
    "TEST_ID_DATA_FILE = 'test_id.npy'\n",
    "\n",
    "test_q1_data = np.load(open(DATA_IN_PATH + TEST_Q1_DATA_FILE, 'rb'))\n",
    "test_q2_data = np.load(open(DATA_IN_PATH + TEST_Q2_DATA_FILE, 'rb'))\n",
    "test_id_data = np.load(open(DATA_IN_PATH + TEST_ID_DATA_FILE, 'rb'))"
   ]
  },
  {
   "cell_type": "code",
   "execution_count": 17,
   "metadata": {},
   "outputs": [],
   "source": [
    "test_input = np.stack((test_q1_data, test_q2_data), axis=1) \n",
    "test_data = xgb.DMatrix(test_input.sum(axis=1))\n",
    "test_predict = bst.predict(test_data)"
   ]
  },
  {
   "cell_type": "code",
   "execution_count": 18,
   "metadata": {},
   "outputs": [
    {
     "data": {
      "text/plain": [
       "array([0.2603645 , 0.5800228 , 0.56899005, ..., 0.37042218, 0.20800486,\n",
       "       0.51456386], dtype=float32)"
      ]
     },
     "execution_count": 18,
     "metadata": {},
     "output_type": "execute_result"
    }
   ],
   "source": [
    "test_predict"
   ]
  },
  {
   "cell_type": "code",
   "execution_count": 19,
   "metadata": {},
   "outputs": [],
   "source": [
    "DATA_OUT_PATH = './output/'\n",
    "\n",
    "if not os.path.exists(DATA_OUT_PATH):\n",
    "    os.makedirs(DATA_OUT_PATH)\n",
    "    \n",
    "output = pd.DataFrame({'test_id': test_id_data, 'is_duplicate': test_predict})\n",
    "output.to_csv(DATA_OUT_PATH + 'simple_xgb.csv', index=False)"
   ]
  },
  {
   "cell_type": "code",
   "execution_count": 20,
   "metadata": {},
   "outputs": [
    {
     "data": {
      "text/html": [
       "<div>\n",
       "<style scoped>\n",
       "    .dataframe tbody tr th:only-of-type {\n",
       "        vertical-align: middle;\n",
       "    }\n",
       "\n",
       "    .dataframe tbody tr th {\n",
       "        vertical-align: top;\n",
       "    }\n",
       "\n",
       "    .dataframe thead th {\n",
       "        text-align: right;\n",
       "    }\n",
       "</style>\n",
       "<table border=\"1\" class=\"dataframe\">\n",
       "  <thead>\n",
       "    <tr style=\"text-align: right;\">\n",
       "      <th></th>\n",
       "      <th>test_id</th>\n",
       "      <th>is_duplicate</th>\n",
       "    </tr>\n",
       "  </thead>\n",
       "  <tbody>\n",
       "    <tr>\n",
       "      <th>0</th>\n",
       "      <td>0</td>\n",
       "      <td>0.260365</td>\n",
       "    </tr>\n",
       "    <tr>\n",
       "      <th>1</th>\n",
       "      <td>1</td>\n",
       "      <td>0.580023</td>\n",
       "    </tr>\n",
       "    <tr>\n",
       "      <th>2</th>\n",
       "      <td>2</td>\n",
       "      <td>0.568990</td>\n",
       "    </tr>\n",
       "    <tr>\n",
       "      <th>3</th>\n",
       "      <td>3</td>\n",
       "      <td>0.164245</td>\n",
       "    </tr>\n",
       "    <tr>\n",
       "      <th>4</th>\n",
       "      <td>4</td>\n",
       "      <td>0.641351</td>\n",
       "    </tr>\n",
       "  </tbody>\n",
       "</table>\n",
       "</div>"
      ],
      "text/plain": [
       "   test_id  is_duplicate\n",
       "0        0      0.260365\n",
       "1        1      0.580023\n",
       "2        2      0.568990\n",
       "3        3      0.164245\n",
       "4        4      0.641351"
      ]
     },
     "execution_count": 20,
     "metadata": {},
     "output_type": "execute_result"
    }
   ],
   "source": [
    "output.head()"
   ]
  },
  {
   "cell_type": "markdown",
   "metadata": {},
   "source": [
    "### 캐글에서 0.57503 으로 2720위 (private점수가 공개되는 캐글) 정도 나온다"
   ]
  }
 ],
 "metadata": {
  "kernelspec": {
   "display_name": "Python 3",
   "language": "python",
   "name": "python3"
  },
  "language_info": {
   "codemirror_mode": {
    "name": "ipython",
    "version": 3
   },
   "file_extension": ".py",
   "mimetype": "text/x-python",
   "name": "python",
   "nbconvert_exporter": "python",
   "pygments_lexer": "ipython3",
   "version": "3.6.8"
  }
 },
 "nbformat": 4,
 "nbformat_minor": 2
}
