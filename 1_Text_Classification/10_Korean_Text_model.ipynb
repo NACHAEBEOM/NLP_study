{
 "cells": [
  {
   "cell_type": "code",
   "execution_count": 1,
   "metadata": {},
   "outputs": [],
   "source": [
    "import os\n",
    "from datetime import datetime\n",
    "import tensorflow as tf\n",
    "import numpy as np\n",
    "import json\n",
    "from sklearn.model_selection import train_test_split"
   ]
  },
  {
   "cell_type": "code",
   "execution_count": 2,
   "metadata": {},
   "outputs": [],
   "source": [
    "DATA_IN_PATH = './data/'\n",
    "DATA_OUT_PATH = './output/'\n",
    "INPUT_TRAIN_DATA = 'nsmc_train_input.npy'\n",
    "LABEL_TRAIN_DATA = 'nsmc_train_label.npy'\n",
    "DATA_CONFIGS = 'data_configs.json'\n",
    "\n",
    "input_data = np.load(open(DATA_IN_PATH + INPUT_TRAIN_DATA, 'rb'))\n",
    "label_data = np.load(open(DATA_IN_PATH + LABEL_TRAIN_DATA, 'rb'))\n",
    "prepro_configs = json.load(open(DATA_IN_PATH + DATA_CONFIGS, 'r'))"
   ]
  },
  {
   "cell_type": "code",
   "execution_count": 3,
   "metadata": {},
   "outputs": [],
   "source": [
    "TEST_SPLIT = 0.1\n",
    "RNG_SEED = 13371447\n",
    "VOCAB_SIZE = prepro_configs['vocab_size']+1\n",
    "EMB_SIZE = 128\n",
    "BATCH_SIZE = 16\n",
    "NUM_EPOCHS = 1\n",
    "\n",
    "input_train, input_eval, label_train, label_eval = train_test_split(input_data, label_data, test_size=TEST_SPLIT, random_state=RNG_SEED)"
   ]
  },
  {
   "cell_type": "code",
   "execution_count": 4,
   "metadata": {},
   "outputs": [],
   "source": [
    "def mapping_fn(X, Y):\n",
    "    input, label = {'x': X}, Y\n",
    "    return input, label\n",
    "\n",
    "def train_input_fn():\n",
    "    dataset = tf.data.Dataset.from_tensor_slices((input_train, label_train))\n",
    "    dataset = dataset.shuffle(buffer_size=len(input_train))\n",
    "    dataset = dataset.batch(BATCH_SIZE)\n",
    "    dataset = dataset.map(mapping_fn)\n",
    "    dataset = dataset.repeat(count=NUM_EPOCHS)\n",
    "    iterator = dataset.make_one_shot_iterator()\n",
    "    \n",
    "    return iterator.get_next()\n",
    "\n",
    "def eval_input_fn():\n",
    "    dataset = tf.data.Dataset.from_tensor_slices((input_eval, label_eval))\n",
    "    dataset = dataset.shuffle(buffer_size=len(input_eval))\n",
    "    dataset = dataset.batch(16)\n",
    "    dataset = dataset.map(mapping_fn)\n",
    "    iterator = dataset.make_one_shot_iterator()\n",
    "    \n",
    "    return iterator.get_next()"
   ]
  },
  {
   "cell_type": "code",
   "execution_count": 5,
   "metadata": {},
   "outputs": [],
   "source": [
    "def model_fn(features, labels, mode, params):\n",
    "    TRAIN = mode == tf.estimator.ModeKeys.TRAIN\n",
    "    EVAL = mode == tf.estimator.ModeKeys.EVAL\n",
    "    PREDICT = mode == tf.estimator.ModeKeys.PREDICT\n",
    "\n",
    "    embedding_layer = tf.keras.layers.Embedding(\n",
    "                    VOCAB_SIZE,\n",
    "                    EMB_SIZE)(features['x'])\n",
    "\n",
    "    dropout_emb = tf.keras.layers.Dropout(rate = 0.2)(embedding_layer)\n",
    "    \n",
    "    conv = tf.keras.layers.Conv1D(\n",
    "           filters=32,\n",
    "           kernel_size=3,\n",
    "           padding='same',\n",
    "           activation=tf.nn.relu)(dropout_emb)\n",
    "  \n",
    "    pool = tf.keras.layers.GlobalMaxPool1D()(conv)\n",
    "\n",
    "    hidden = tf.keras.layers.Dense(units=250, activation=tf.nn.relu)(pool)   \n",
    "\n",
    "\n",
    "    dropout_hidden = tf.keras.layers.Dropout(rate=0.2)(hidden, training = TRAIN)\n",
    "    logits = tf.keras.layers.Dense(units=1)(dropout_hidden)\n",
    "\n",
    "    if labels is not None:\n",
    "        labels = tf.reshape(labels, [-1, 1])\n",
    "        \n",
    "    if TRAIN:\n",
    "        global_step = tf.train.get_global_step()\n",
    "        loss = tf.losses.sigmoid_cross_entropy(labels, logits)\n",
    "        train_op = tf.train.AdamOptimizer(0.001).minimize(loss, global_step)\n",
    "\n",
    "        return tf.estimator.EstimatorSpec(mode=mode, train_op=train_op, loss = loss)\n",
    "    \n",
    "    elif EVAL:\n",
    "        loss = tf.losses.sigmoid_cross_entropy(labels, logits)\n",
    "        pred = tf.nn.sigmoid(logits)\n",
    "        accuracy = tf.metrics.accuracy(labels, tf.round(pred))\n",
    "        return tf.estimator.EstimatorSpec(mode=mode, loss=loss, eval_metric_ops={'acc': accuracy})\n",
    "        \n",
    "    elif PREDICT:\n",
    "        return tf.estimator.EstimatorSpec(\n",
    "            mode=mode,\n",
    "            predictions={\n",
    "                'prob': tf.nn.sigmoid(logits),\n",
    "            }\n",
    "        )"
   ]
  },
  {
   "cell_type": "code",
   "execution_count": 6,
   "metadata": {},
   "outputs": [
    {
     "name": "stdout",
     "output_type": "stream",
     "text": [
      "INFO:tensorflow:Using default config.\n",
      "INFO:tensorflow:Using config: {'_model_dir': 'output/checkpoint/korean_model', '_tf_random_seed': None, '_save_summary_steps': 100, '_save_checkpoints_steps': None, '_save_checkpoints_secs': 600, '_session_config': allow_soft_placement: true\n",
      "graph_options {\n",
      "  rewrite_options {\n",
      "    meta_optimizer_iterations: ONE\n",
      "  }\n",
      "}\n",
      ", '_keep_checkpoint_max': 5, '_keep_checkpoint_every_n_hours': 10000, '_log_step_count_steps': 100, '_train_distribute': None, '_device_fn': None, '_protocol': None, '_eval_distribute': None, '_experimental_distribute': None, '_service': None, '_cluster_spec': <tensorflow.python.training.server_lib.ClusterSpec object at 0x000001BFE6F5F710>, '_task_type': 'worker', '_task_id': 0, '_global_id_in_cluster': 0, '_master': '', '_evaluation_master': '', '_is_chief': True, '_num_ps_replicas': 0, '_num_worker_replicas': 1}\n",
      "WARNING:tensorflow:Estimator's model_fn (<function model_fn at 0x000001BFD1B95AE8>) includes params argument, but params are not passed to Estimator.\n"
     ]
    }
   ],
   "source": [
    "est = tf.estimator.Estimator(model_fn, model_dir=\"output/checkpoint/korean_model\")"
   ]
  },
  {
   "cell_type": "code",
   "execution_count": 7,
   "metadata": {
    "scrolled": false
   },
   "outputs": [
    {
     "name": "stdout",
     "output_type": "stream",
     "text": [
      "Experiment started at 13:32:36\n",
      ".......................................\n",
      "INFO:tensorflow:Calling model_fn.\n",
      "INFO:tensorflow:Done calling model_fn.\n",
      "INFO:tensorflow:Create CheckpointSaverHook.\n",
      "INFO:tensorflow:Graph was finalized.\n",
      "INFO:tensorflow:Running local_init_op.\n",
      "INFO:tensorflow:Done running local_init_op.\n",
      "INFO:tensorflow:Saving checkpoints for 0 into output/checkpoint/korean_model\\model.ckpt.\n",
      "INFO:tensorflow:loss = 0.6906611, step = 1\n",
      "INFO:tensorflow:global_step/sec: 17.0539\n",
      "INFO:tensorflow:loss = 0.66531324, step = 101 (5.864 sec)\n",
      "INFO:tensorflow:global_step/sec: 17.4508\n",
      "INFO:tensorflow:loss = 0.40304634, step = 201 (5.730 sec)\n",
      "INFO:tensorflow:global_step/sec: 18.3844\n",
      "INFO:tensorflow:loss = 0.5088785, step = 301 (5.439 sec)\n",
      "INFO:tensorflow:global_step/sec: 18.13\n",
      "INFO:tensorflow:loss = 0.7183562, step = 401 (5.518 sec)\n",
      "INFO:tensorflow:global_step/sec: 18.1139\n",
      "INFO:tensorflow:loss = 0.2504524, step = 501 (5.519 sec)\n",
      "INFO:tensorflow:global_step/sec: 18.4123\n",
      "INFO:tensorflow:loss = 0.56469584, step = 601 (5.431 sec)\n",
      "INFO:tensorflow:global_step/sec: 18.2362\n",
      "INFO:tensorflow:loss = 0.21696492, step = 701 (5.484 sec)\n",
      "INFO:tensorflow:global_step/sec: 18.3213\n",
      "INFO:tensorflow:loss = 0.6841728, step = 801 (5.458 sec)\n",
      "INFO:tensorflow:global_step/sec: 17.8294\n",
      "INFO:tensorflow:loss = 0.51250577, step = 901 (5.609 sec)\n",
      "INFO:tensorflow:global_step/sec: 17.837\n",
      "INFO:tensorflow:loss = 0.41543466, step = 1001 (5.606 sec)\n",
      "INFO:tensorflow:global_step/sec: 17.7453\n",
      "INFO:tensorflow:loss = 0.3242824, step = 1101 (5.635 sec)\n",
      "INFO:tensorflow:global_step/sec: 18.278\n",
      "INFO:tensorflow:loss = 0.5415641, step = 1201 (5.472 sec)\n",
      "INFO:tensorflow:global_step/sec: 18.3407\n",
      "INFO:tensorflow:loss = 0.4116478, step = 1301 (5.451 sec)\n",
      "INFO:tensorflow:global_step/sec: 18.2841\n",
      "INFO:tensorflow:loss = 0.5623503, step = 1401 (5.469 sec)\n",
      "INFO:tensorflow:global_step/sec: 18.084\n",
      "INFO:tensorflow:loss = 0.4326844, step = 1501 (5.530 sec)\n",
      "INFO:tensorflow:global_step/sec: 18.2158\n",
      "INFO:tensorflow:loss = 0.35495496, step = 1601 (5.490 sec)\n",
      "INFO:tensorflow:global_step/sec: 18.3174\n",
      "INFO:tensorflow:loss = 0.25671616, step = 1701 (5.460 sec)\n",
      "INFO:tensorflow:global_step/sec: 18.3566\n",
      "INFO:tensorflow:loss = 0.30001956, step = 1801 (5.447 sec)\n",
      "INFO:tensorflow:global_step/sec: 18.2177\n",
      "INFO:tensorflow:loss = 0.40237874, step = 1901 (5.489 sec)\n",
      "INFO:tensorflow:global_step/sec: 18.3574\n",
      "INFO:tensorflow:loss = 0.596282, step = 2001 (5.447 sec)\n",
      "INFO:tensorflow:global_step/sec: 18.2305\n",
      "INFO:tensorflow:loss = 0.39949596, step = 2101 (5.501 sec)\n",
      "INFO:tensorflow:global_step/sec: 18.1583\n",
      "INFO:tensorflow:loss = 0.3380208, step = 2201 (5.491 sec)\n",
      "INFO:tensorflow:global_step/sec: 16.9039\n",
      "INFO:tensorflow:loss = 0.5752121, step = 2301 (5.916 sec)\n",
      "INFO:tensorflow:global_step/sec: 18.2548\n",
      "INFO:tensorflow:loss = 0.22146834, step = 2401 (5.478 sec)\n",
      "INFO:tensorflow:global_step/sec: 18.2005\n",
      "INFO:tensorflow:loss = 0.2649625, step = 2501 (5.494 sec)\n",
      "INFO:tensorflow:global_step/sec: 18.1419\n",
      "INFO:tensorflow:loss = 0.23620112, step = 2601 (5.512 sec)\n",
      "INFO:tensorflow:global_step/sec: 17.9046\n",
      "INFO:tensorflow:loss = 0.25220427, step = 2701 (5.585 sec)\n",
      "INFO:tensorflow:global_step/sec: 17.9127\n",
      "INFO:tensorflow:loss = 0.40202895, step = 2801 (5.583 sec)\n",
      "INFO:tensorflow:global_step/sec: 17.8728\n",
      "INFO:tensorflow:loss = 0.34878516, step = 2901 (5.595 sec)\n",
      "INFO:tensorflow:global_step/sec: 18.2048\n",
      "INFO:tensorflow:loss = 0.5859214, step = 3001 (5.493 sec)\n",
      "INFO:tensorflow:global_step/sec: 18.1313\n",
      "INFO:tensorflow:loss = 0.4387107, step = 3101 (5.515 sec)\n",
      "INFO:tensorflow:global_step/sec: 18.0714\n",
      "INFO:tensorflow:loss = 0.48243076, step = 3201 (5.534 sec)\n",
      "INFO:tensorflow:global_step/sec: 17.953\n",
      "INFO:tensorflow:loss = 0.1389634, step = 3301 (5.570 sec)\n",
      "INFO:tensorflow:global_step/sec: 18.1066\n",
      "INFO:tensorflow:loss = 0.6255406, step = 3401 (5.523 sec)\n",
      "INFO:tensorflow:global_step/sec: 18.1017\n",
      "INFO:tensorflow:loss = 0.48392054, step = 3501 (5.524 sec)\n",
      "INFO:tensorflow:global_step/sec: 18.1427\n",
      "INFO:tensorflow:loss = 0.44892797, step = 3601 (5.512 sec)\n",
      "INFO:tensorflow:global_step/sec: 18.0425\n",
      "INFO:tensorflow:loss = 0.46169552, step = 3701 (5.542 sec)\n",
      "INFO:tensorflow:global_step/sec: 18.13\n",
      "INFO:tensorflow:loss = 0.3699932, step = 3801 (5.516 sec)\n",
      "INFO:tensorflow:global_step/sec: 18.1326\n",
      "INFO:tensorflow:loss = 0.33792523, step = 3901 (5.515 sec)\n",
      "INFO:tensorflow:global_step/sec: 18.1068\n",
      "INFO:tensorflow:loss = 0.22986034, step = 4001 (5.523 sec)\n",
      "INFO:tensorflow:global_step/sec: 17.967\n",
      "INFO:tensorflow:loss = 0.37804276, step = 4101 (5.566 sec)\n",
      "INFO:tensorflow:global_step/sec: 18.1944\n",
      "INFO:tensorflow:loss = 0.6701169, step = 4201 (5.496 sec)\n",
      "INFO:tensorflow:global_step/sec: 18.114\n",
      "INFO:tensorflow:loss = 0.32636988, step = 4301 (5.521 sec)\n",
      "INFO:tensorflow:global_step/sec: 18.0658\n",
      "INFO:tensorflow:loss = 0.5969461, step = 4401 (5.551 sec)\n",
      "INFO:tensorflow:global_step/sec: 17.7795\n",
      "INFO:tensorflow:loss = 0.61915815, step = 4501 (5.609 sec)\n",
      "INFO:tensorflow:global_step/sec: 17.7587\n",
      "INFO:tensorflow:loss = 0.3414039, step = 4601 (5.631 sec)\n",
      "INFO:tensorflow:global_step/sec: 17.6309\n",
      "INFO:tensorflow:loss = 0.21492912, step = 4701 (5.672 sec)\n",
      "INFO:tensorflow:global_step/sec: 18.0451\n",
      "INFO:tensorflow:loss = 0.68412644, step = 4801 (5.542 sec)\n",
      "INFO:tensorflow:global_step/sec: 18.1827\n",
      "INFO:tensorflow:loss = 0.3559547, step = 4901 (5.500 sec)\n",
      "INFO:tensorflow:global_step/sec: 18.1203\n",
      "INFO:tensorflow:loss = 0.29996568, step = 5001 (5.519 sec)\n",
      "INFO:tensorflow:global_step/sec: 18.1271\n",
      "INFO:tensorflow:loss = 0.5128563, step = 5101 (5.517 sec)\n",
      "INFO:tensorflow:global_step/sec: 17.4818\n",
      "INFO:tensorflow:loss = 0.67303157, step = 5201 (5.720 sec)\n",
      "INFO:tensorflow:global_step/sec: 17.9826\n",
      "INFO:tensorflow:loss = 0.40378702, step = 5301 (5.561 sec)\n",
      "INFO:tensorflow:global_step/sec: 17.9925\n",
      "INFO:tensorflow:loss = 0.21759497, step = 5401 (5.558 sec)\n",
      "INFO:tensorflow:global_step/sec: 17.9568\n",
      "INFO:tensorflow:loss = 0.34293416, step = 5501 (5.569 sec)\n",
      "INFO:tensorflow:global_step/sec: 18.0462\n",
      "INFO:tensorflow:loss = 0.48219532, step = 5601 (5.542 sec)\n",
      "INFO:tensorflow:global_step/sec: 18.1156\n",
      "INFO:tensorflow:loss = 0.5042391, step = 5701 (5.519 sec)\n",
      "INFO:tensorflow:global_step/sec: 18.0777\n",
      "INFO:tensorflow:loss = 0.36707973, step = 5801 (5.532 sec)\n",
      "INFO:tensorflow:global_step/sec: 18.0858\n",
      "INFO:tensorflow:loss = 0.3052324, step = 5901 (5.529 sec)\n",
      "INFO:tensorflow:global_step/sec: 17.7766\n",
      "INFO:tensorflow:loss = 0.40517205, step = 6001 (5.625 sec)\n",
      "INFO:tensorflow:global_step/sec: 17.8611\n",
      "INFO:tensorflow:loss = 0.4211799, step = 6101 (5.599 sec)\n",
      "INFO:tensorflow:global_step/sec: 18.1184\n",
      "INFO:tensorflow:loss = 0.56441355, step = 6201 (5.519 sec)\n",
      "INFO:tensorflow:global_step/sec: 17.757\n",
      "INFO:tensorflow:loss = 0.5402343, step = 6301 (5.632 sec)\n",
      "INFO:tensorflow:global_step/sec: 17.6789\n",
      "INFO:tensorflow:loss = 0.2894706, step = 6401 (5.661 sec)\n",
      "INFO:tensorflow:global_step/sec: 17.2891\n",
      "INFO:tensorflow:loss = 0.41479105, step = 6501 (5.780 sec)\n",
      "INFO:tensorflow:global_step/sec: 17.5705\n",
      "INFO:tensorflow:loss = 0.33650893, step = 6601 (5.691 sec)\n",
      "INFO:tensorflow:global_step/sec: 17.2147\n",
      "INFO:tensorflow:loss = 0.24211624, step = 6701 (5.809 sec)\n",
      "INFO:tensorflow:global_step/sec: 17.6527\n",
      "INFO:tensorflow:loss = 0.43606114, step = 6801 (5.665 sec)\n",
      "INFO:tensorflow:global_step/sec: 17.4531\n",
      "INFO:tensorflow:loss = 0.3411026, step = 6901 (5.730 sec)\n",
      "INFO:tensorflow:global_step/sec: 17.626\n",
      "INFO:tensorflow:loss = 0.30844763, step = 7001 (5.675 sec)\n",
      "INFO:tensorflow:global_step/sec: 17.4033\n",
      "INFO:tensorflow:loss = 0.31116298, step = 7101 (5.745 sec)\n",
      "INFO:tensorflow:global_step/sec: 17.4587\n",
      "INFO:tensorflow:loss = 0.23670486, step = 7201 (5.730 sec)\n",
      "INFO:tensorflow:global_step/sec: 17.4918\n",
      "INFO:tensorflow:loss = 0.27205104, step = 7301 (5.727 sec)\n",
      "INFO:tensorflow:global_step/sec: 17.5271\n",
      "INFO:tensorflow:loss = 0.4359967, step = 7401 (5.694 sec)\n",
      "INFO:tensorflow:global_step/sec: 17.6117\n",
      "INFO:tensorflow:loss = 0.517271, step = 7501 (5.678 sec)\n",
      "INFO:tensorflow:global_step/sec: 17.7578\n",
      "INFO:tensorflow:loss = 0.43126345, step = 7601 (5.631 sec)\n",
      "INFO:tensorflow:global_step/sec: 17.8963\n",
      "INFO:tensorflow:loss = 0.75058615, step = 7701 (5.590 sec)\n",
      "INFO:tensorflow:global_step/sec: 17.6938\n",
      "INFO:tensorflow:loss = 0.27452275, step = 7801 (5.650 sec)\n",
      "INFO:tensorflow:global_step/sec: 17.9112\n"
     ]
    },
    {
     "name": "stdout",
     "output_type": "stream",
     "text": [
      "INFO:tensorflow:loss = 0.33040154, step = 7901 (5.584 sec)\n",
      "INFO:tensorflow:global_step/sec: 15.9528\n",
      "INFO:tensorflow:loss = 0.4905103, step = 8001 (6.272 sec)\n",
      "INFO:tensorflow:global_step/sec: 15.0087\n",
      "INFO:tensorflow:loss = 0.36856169, step = 8101 (6.658 sec)\n",
      "INFO:tensorflow:global_step/sec: 14.706\n",
      "INFO:tensorflow:loss = 0.31347573, step = 8201 (6.800 sec)\n",
      "INFO:tensorflow:global_step/sec: 17.3402\n",
      "INFO:tensorflow:loss = 0.29515153, step = 8301 (5.771 sec)\n",
      "INFO:tensorflow:global_step/sec: 17.422\n",
      "INFO:tensorflow:loss = 0.29949865, step = 8401 (5.735 sec)\n",
      "INFO:tensorflow:Saving checkpoints for 8438 into output/checkpoint/korean_model\\model.ckpt.\n",
      "INFO:tensorflow:Loss for final step: 0.166874.\n",
      ".......................................\n",
      "Experiment finished at 13:40:37\n",
      "\n",
      "Experiment elapsed time: 480.793581 seconds\n"
     ]
    }
   ],
   "source": [
    "time_start = datetime.utcnow()\n",
    "print(\"Experiment started at {}\".format(time_start.strftime(\"%H:%M:%S\")))\n",
    "print(\".......................................\") \n",
    "\n",
    "est.train(train_input_fn)\n",
    "\n",
    "time_end = datetime.utcnow()\n",
    "print(\".......................................\")\n",
    "print(\"Experiment finished at {}\".format(time_end.strftime(\"%H:%M:%S\")))\n",
    "print(\"\")\n",
    "time_elapsed = time_end - time_start\n",
    "print(\"Experiment elapsed time: {} seconds\".format(time_elapsed.total_seconds()))"
   ]
  },
  {
   "cell_type": "code",
   "execution_count": 8,
   "metadata": {},
   "outputs": [
    {
     "name": "stdout",
     "output_type": "stream",
     "text": [
      "INFO:tensorflow:Calling model_fn.\n",
      "INFO:tensorflow:Done calling model_fn.\n",
      "INFO:tensorflow:Starting evaluation at 2019-06-29-13:40:37\n",
      "INFO:tensorflow:Graph was finalized.\n",
      "INFO:tensorflow:Restoring parameters from output/checkpoint/korean_model\\model.ckpt-8438\n",
      "INFO:tensorflow:Running local_init_op.\n",
      "INFO:tensorflow:Done running local_init_op.\n",
      "INFO:tensorflow:Finished evaluation at 2019-06-29-13:40:39\n",
      "INFO:tensorflow:Saving dict for global step 8438: acc = 0.8218667, global_step = 8438, loss = 0.40148613\n",
      "INFO:tensorflow:Saving 'checkpoint_path' summary for global step 8438: output/checkpoint/korean_model\\model.ckpt-8438\n"
     ]
    }
   ],
   "source": [
    "valid = est.evaluate(eval_input_fn)"
   ]
  },
  {
   "cell_type": "code",
   "execution_count": 9,
   "metadata": {},
   "outputs": [],
   "source": [
    "INPUT_TEST_DATA = 'nsmc_test_input.npy'\n",
    "LABEL_TEST_DATA = 'nsmc_test_label.npy'\n",
    "\n",
    "test_input_data = np.load(open(DATA_IN_PATH + INPUT_TEST_DATA, 'rb'))\n",
    "test_label_data = np.load(open(DATA_IN_PATH + LABEL_TEST_DATA, 'rb'))"
   ]
  },
  {
   "cell_type": "code",
   "execution_count": 10,
   "metadata": {},
   "outputs": [],
   "source": [
    "def test_input_fn():\n",
    "    dataset = tf.data.Dataset.from_tensor_slices((test_input_data, test_label_data))\n",
    "    dataset = dataset.batch(16)\n",
    "    dataset = dataset.map(mapping_fn)\n",
    "    iterator = dataset.make_one_shot_iterator()\n",
    "    \n",
    "    return iterator.get_next()"
   ]
  },
  {
   "cell_type": "code",
   "execution_count": 11,
   "metadata": {},
   "outputs": [
    {
     "name": "stdout",
     "output_type": "stream",
     "text": [
      "INFO:tensorflow:Calling model_fn.\n",
      "INFO:tensorflow:Done calling model_fn.\n",
      "INFO:tensorflow:Starting evaluation at 2019-06-29-13:42:44\n",
      "INFO:tensorflow:Graph was finalized.\n",
      "INFO:tensorflow:Restoring parameters from output/checkpoint/korean_model\\model.ckpt-8438\n",
      "INFO:tensorflow:Running local_init_op.\n",
      "INFO:tensorflow:Done running local_init_op.\n",
      "INFO:tensorflow:Finished evaluation at 2019-06-29-13:42:47\n",
      "INFO:tensorflow:Saving dict for global step 8438: acc = 0.81692, global_step = 8438, loss = 0.40289745\n",
      "INFO:tensorflow:Saving 'checkpoint_path' summary for global step 8438: output/checkpoint/korean_model\\model.ckpt-8438\n"
     ]
    }
   ],
   "source": [
    "predict = est.evaluate(test_input_fn)"
   ]
  },
  {
   "cell_type": "code",
   "execution_count": 12,
   "metadata": {},
   "outputs": [
    {
     "data": {
      "text/plain": [
       "{'acc': 0.81692, 'loss': 0.40289745, 'global_step': 8438}"
      ]
     },
     "execution_count": 12,
     "metadata": {},
     "output_type": "execute_result"
    }
   ],
   "source": [
    "predict"
   ]
  },
  {
   "cell_type": "code",
   "execution_count": null,
   "metadata": {},
   "outputs": [],
   "source": []
  }
 ],
 "metadata": {
  "kernelspec": {
   "display_name": "Python 3",
   "language": "python",
   "name": "python3"
  },
  "language_info": {
   "codemirror_mode": {
    "name": "ipython",
    "version": 3
   },
   "file_extension": ".py",
   "mimetype": "text/x-python",
   "name": "python",
   "nbconvert_exporter": "python",
   "pygments_lexer": "ipython3",
   "version": "3.6.8"
  }
 },
 "nbformat": 4,
 "nbformat_minor": 2
}
