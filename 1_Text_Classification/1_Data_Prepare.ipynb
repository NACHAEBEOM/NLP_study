{
 "cells": [
  {
   "cell_type": "markdown",
   "metadata": {},
   "source": [
    "### ------------------------------------------------------------------------------------------------------------------------------------------------------\n",
    "### 데이터 : Bag of Words Meets Bags of Popcorn\n",
    "### 데이터 출처 : https://www.kaggle.com/c/word2vec-nlp-tutorial/data\n",
    "### 분석 목적 : 영화 리뷰 텍스트와 평점에 따른 감정 값(긍/부정) 분류 예측 == 감정 분석\n",
    "### ------------------------------------------------------------------------------------------------------------------------------------------------------"
   ]
  },
  {
   "cell_type": "code",
   "execution_count": 1,
   "metadata": {},
   "outputs": [],
   "source": [
    "import zipfile"
   ]
  },
  {
   "cell_type": "code",
   "execution_count": 2,
   "metadata": {},
   "outputs": [],
   "source": [
    "DATA_IN_PATH = './data/' #데이터가 저장된 경로\n",
    "file_list = ['labeledTrainData.tsv.zip', 'unlabeledTrainData.tsv.zip', 'testData.tsv.zip']\n",
    "# 압축을 풀고자 하는 파일의 이름들을 리스트로 지정"
   ]
  },
  {
   "cell_type": "code",
   "execution_count": 3,
   "metadata": {},
   "outputs": [],
   "source": [
    "for file in file_list:\n",
    "    zipRef = zipfile.ZipFile(DATA_IN_PATH + file, 'r')\n",
    "    # zipfile.ZipFile(파일의 경로, 파일 모드 옵션(파일을 읽어 들여 압축한 파일을 내놓는 방식이므로 읽기모드인 r)\n",
    "    zipRef.extractall(DATA_IN_PATH)\n",
    "    # extractall(압축을 풀고자 하는 경로) 함수를 사용해 압축을 푼다.\n",
    "    zipRef.close()\n",
    "    # 파일 처리를 마치기 위한 close() 함수"
   ]
  }
 ],
 "metadata": {
  "kernelspec": {
   "display_name": "Python 3",
   "language": "python",
   "name": "python3"
  },
  "language_info": {
   "codemirror_mode": {
    "name": "ipython",
    "version": 3
   },
   "file_extension": ".py",
   "mimetype": "text/x-python",
   "name": "python",
   "nbconvert_exporter": "python",
   "pygments_lexer": "ipython3",
   "version": "3.6.8"
  }
 },
 "nbformat": 4,
 "nbformat_minor": 2
}
